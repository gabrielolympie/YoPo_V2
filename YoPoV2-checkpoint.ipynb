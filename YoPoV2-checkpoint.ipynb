{
 "cells": [
  {
   "cell_type": "code",
   "execution_count": null,
   "id": "799ba6ed-518a-4ba8-987d-7b0647f32dd2",
   "metadata": {},
   "outputs": [],
   "source": [
    "Concepts:\n",
    "- Graph : A set of nodes, with their predecessors and childrens\n",
    "- Node : A node with a run method, that can takes in a conversation, and childrens outputs, and sends a reply\n",
    "- An orchestrator, that proceed sequencially\n",
    "\n",
    "\n",
    "predecessor_state = {\n",
    "    'inputs': {'prompt':\"Hello there\"},\n",
    "    'output': {'reply':'Ran'},\n",
    "}\n",
    "\n",
    "\n",
    "        "
   ]
  },
  {
   "cell_type": "code",
   "execution_count": null,
   "id": "26821688-58bb-4ff7-850a-e9a7001c4671",
   "metadata": {},
   "outputs": [],
   "source": [
    "a result is a pair, prompt, reply"
   ]
  },
  {
   "cell_type": "code",
   "execution_count": 5,
   "id": "1d72b0a9-4770-451a-851b-4ce0f133b332",
   "metadata": {},
   "outputs": [
    {
     "name": "stdout",
     "output_type": "stream",
     "text": [
      "The autoreload extension is already loaded. To reload it, use:\n",
      "  %reload_ext autoreload\n"
     ]
    }
   ],
   "source": [
    "%load_ext autoreload\n",
    "%autoreload 2"
   ]
  },
  {
   "cell_type": "code",
   "execution_count": 8,
   "id": "a513cb72-f8a9-47d3-9267-90263319ed12",
   "metadata": {},
   "outputs": [
    {
     "name": "stderr",
     "output_type": "stream",
     "text": [
      "[autoreload of neuron failed: Traceback (most recent call last):\n",
      "  File \"/home/golympie/miniconda3/lib/python3.11/site-packages/IPython/extensions/autoreload.py\", line 276, in check\n",
      "    superreload(m, reload, self.old_objects)\n",
      "  File \"/home/golympie/miniconda3/lib/python3.11/site-packages/IPython/extensions/autoreload.py\", line 500, in superreload\n",
      "    update_generic(old_obj, new_obj)\n",
      "  File \"/home/golympie/miniconda3/lib/python3.11/site-packages/IPython/extensions/autoreload.py\", line 397, in update_generic\n",
      "    update(a, b)\n",
      "  File \"/home/golympie/miniconda3/lib/python3.11/site-packages/IPython/extensions/autoreload.py\", line 365, in update_class\n",
      "    update_instances(old, new)\n",
      "  File \"/home/golympie/miniconda3/lib/python3.11/site-packages/IPython/extensions/autoreload.py\", line 323, in update_instances\n",
      "    object.__setattr__(ref, \"__class__\", new)\n",
      "TypeError: __class__ assignment: 'Neuron' object layout differs from 'Neuron'\n",
      "]\n"
     ]
    }
   ],
   "source": [
    "from neuron import Neuron\n",
    "\n",
    "neuron = Neuron(\n",
    "    id=\"example_neuron\",\n",
    "    args={\"prompt\": \"Hello, this is an example neuron\"},\n",
    "    run_args={\"timeout\": 10, \"retries\": 3},\n",
    "    predecessors={\"parent_neuron\": \"parent_id\"},\n",
    "    triggers=[],\n",
    "    is_terminal=False,\n",
    ")"
   ]
  },
  {
   "cell_type": "code",
   "execution_count": 7,
   "id": "7c2e57a6-52cb-4f0a-a401-1722aacdee02",
   "metadata": {},
   "outputs": [
    {
     "data": {
      "text/plain": [
       "NeuronConfig(id='example_neuron', args={'prompt': 'Hello, this is an example neuron'}, output={'format': 'text', 'type': 'response'}, run_args={'prompt': 'Hello, this is an example neuron'}, predecessors={'parent_neuron': None}, triggers=[], is_terminal=False)"
      ]
     },
     "execution_count": 7,
     "metadata": {},
     "output_type": "execute_result"
    }
   ],
   "source": [
    "neuron.config"
   ]
  },
  {
   "cell_type": "code",
   "execution_count": null,
   "id": "9c52634a-1e3f-4a7d-a628-8cf913b6bf3e",
   "metadata": {},
   "outputs": [],
   "source": []
  }
 ],
 "metadata": {
  "kernelspec": {
   "display_name": "Python 3 (ipykernel)",
   "language": "python",
   "name": "python3"
  },
  "language_info": {
   "codemirror_mode": {
    "name": "ipython",
    "version": 3
   },
   "file_extension": ".py",
   "mimetype": "text/x-python",
   "name": "python",
   "nbconvert_exporter": "python",
   "pygments_lexer": "ipython3",
   "version": "3.11.5"
  }
 },
 "nbformat": 4,
 "nbformat_minor": 5
}
