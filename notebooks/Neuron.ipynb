{
 "cells": [
  {
   "cell_type": "code",
   "execution_count": 1,
   "id": "1d72b0a9-4770-451a-851b-4ce0f133b332",
   "metadata": {},
   "outputs": [],
   "source": [
    "%load_ext autoreload\n",
    "%autoreload 2\n",
    "\n",
    "import sys\n",
    "sys.path.append('..')"
   ]
  },
  {
   "cell_type": "code",
   "execution_count": 2,
   "id": "9c52634a-1e3f-4a7d-a628-8cf913b6bf3e",
   "metadata": {},
   "outputs": [
    {
     "data": {
      "text/plain": [
       "{'id': 'neuron1',\n",
       " 'args': {'prompt': 'Test prompt'},\n",
       " 'run_kargs': {'temperature': 0.7, 'top_p': 0.9},\n",
       " 'predecessors': {},\n",
       " 'triggers': [],\n",
       " 'is_terminal': False}"
      ]
     },
     "execution_count": 2,
     "metadata": {},
     "output_type": "execute_result"
    }
   ],
   "source": [
    "# Import necessary classes and libraries\n",
    "from core.neuron import Neuron, Message, ResetMessage\n",
    "import yaml\n",
    "\n",
    "# Initialize a Neuron instance\n",
    "neuron = Neuron(\n",
    "    id=\"neuron1\",\n",
    "    args={\"prompt\": \"Test prompt\"},\n",
    "    run_kargs={\"temperature\": 0.7, \"top_p\": 0.9},\n",
    "    predecessors={},\n",
    "    triggers=[],\n",
    "    is_terminal=False\n",
    ")\n",
    "\n",
    "# Display the initial configuration of the neuron\n",
    "neuron.config"
   ]
  },
  {
   "cell_type": "code",
   "execution_count": 3,
   "id": "f4f79eb6",
   "metadata": {},
   "outputs": [
    {
     "data": {
      "text/plain": [
       "{'id': 'neuron1',\n",
       " 'args': {'prompt': 'Test prompt'},\n",
       " 'run_kargs': {'temperature': 0.7, 'top_p': 0.9},\n",
       " 'predecessors': {'predecessor1': None, 'predecessor2': None},\n",
       " 'triggers': [],\n",
       " 'is_terminal': False}"
      ]
     },
     "execution_count": 3,
     "metadata": {},
     "output_type": "execute_result"
    }
   ],
   "source": [
    "# Add predecessors to the neuron\n",
    "neuron.add_predecessor(\"predecessor1\")\n",
    "neuron.add_predecessor(\"predecessor2\")\n",
    "\n",
    "# Display the updated configuration of the neuron\n",
    "neuron.config"
   ]
  },
  {
   "cell_type": "code",
   "execution_count": 4,
   "id": "73f42d7c",
   "metadata": {},
   "outputs": [
    {
     "data": {
      "text/plain": [
       "{'id': 'neuron1',\n",
       " 'args': {'prompt': 'Test prompt'},\n",
       " 'run_kargs': {'temperature': 0.7, 'top_p': 0.9},\n",
       " 'predecessors': {'predecessor1': None, 'predecessor2': None},\n",
       " 'triggers': ['predecessor1,predecessor2'],\n",
       " 'is_terminal': False}"
      ]
     },
     "execution_count": 4,
     "metadata": {},
     "output_type": "execute_result"
    }
   ],
   "source": [
    "# Add triggers to the neuron\n",
    "neuron.add_trigger(\"predecessor1,predecessor2\")\n",
    "\n",
    "# Display the updated configuration of the neuron\n",
    "neuron.config"
   ]
  },
  {
   "cell_type": "code",
   "execution_count": 5,
   "id": "95722d32",
   "metadata": {},
   "outputs": [
    {
     "data": {
      "text/plain": [
       "{'id': 'neuron1',\n",
       " 'args': {'prompt': 'Test prompt'},\n",
       " 'run_kargs': {'temperature': 0.7, 'top_p': 0.9},\n",
       " 'predecessors': {'predecessor1': None, 'predecessor2': None},\n",
       " 'triggers': ['predecessor1,predecessor2'],\n",
       " 'is_terminal': False}"
      ]
     },
     "execution_count": 5,
     "metadata": {},
     "output_type": "execute_result"
    }
   ],
   "source": [
    "# Update predecessors with messages\n",
    "message1 = Message(id=\"predecessor1\", args={\"prompt\": \"Message 1\"})\n",
    "message2 = Message(id=\"predecessor2\", args={\"prompt\": \"Message 2\"})\n",
    "\n",
    "neuron.update_predecessor(message1)\n",
    "neuron.update_predecessor(message2)\n",
    "\n",
    "# Display the updated configuration of the neuron\n",
    "neuron.config"
   ]
  },
  {
   "cell_type": "code",
   "execution_count": 6,
   "id": "df53a7c4",
   "metadata": {},
   "outputs": [
    {
     "data": {
      "text/plain": [
       "'predecessor1,predecessor2'"
      ]
     },
     "execution_count": 6,
     "metadata": {},
     "output_type": "execute_result"
    }
   ],
   "source": [
    "# Check if the neuron is ready to fire\n",
    "neuron.ready_to_fire()"
   ]
  },
  {
   "cell_type": "code",
   "execution_count": 7,
   "id": "c77f05f1",
   "metadata": {},
   "outputs": [],
   "source": [
    "# Fire the neuron with a trigger string\n",
    "result = neuron.fire(\"predecessor1,predecessor2\")\n",
    "\n",
    "# Display the result of firing the neuron\n",
    "result"
   ]
  },
  {
   "cell_type": "code",
   "execution_count": 10,
   "id": "756fc8f8",
   "metadata": {},
   "outputs": [
    {
     "data": {
      "text/plain": [
       "{'id': 'neuron1',\n",
       " 'args': {'prompt': 'Test prompt'},\n",
       " 'run_kargs': {'temperature': 0.7, 'top_p': 0.9},\n",
       " 'predecessors': {'predecessor1': None, 'predecessor2': None},\n",
       " 'triggers': ['predecessor1,predecessor2'],\n",
       " 'is_terminal': False}"
      ]
     },
     "execution_count": 10,
     "metadata": {},
     "output_type": "execute_result"
    }
   ],
   "source": [
    "# Reset a predecessor\n",
    "neuron.reset_predecessor(\"predecessor1\")\n",
    "\n",
    "# Display the updated configuration of the neuron\n",
    "neuron.config"
   ]
  },
  {
   "cell_type": "code",
   "execution_count": 11,
   "id": "6e181784",
   "metadata": {},
   "outputs": [
    {
     "data": {
      "text/plain": [
       "False"
      ]
     },
     "execution_count": 11,
     "metadata": {},
     "output_type": "execute_result"
    }
   ],
   "source": [
    "# Check if the neuron is ready to fire after resetting a predecessor\n",
    "neuron.ready_to_fire()"
   ]
  },
  {
   "cell_type": "code",
   "execution_count": 12,
   "id": "6cfb748b",
   "metadata": {},
   "outputs": [
    {
     "data": {
      "text/plain": [
       "{'id': 'neuron1',\n",
       " 'args': {'prompt': 'Test prompt'},\n",
       " 'run_kargs': {'temperature': 0.7, 'top_p': 0.9},\n",
       " 'predecessors': {'predecessor1': None, 'predecessor2': None},\n",
       " 'triggers': ['predecessor1,predecessor2'],\n",
       " 'is_terminal': False}"
      ]
     },
     "execution_count": 12,
     "metadata": {},
     "output_type": "execute_result"
    }
   ],
   "source": [
    "# Update a predecessor with a ResetMessage\n",
    "reset_message = ResetMessage(id=\"predecessor2\")\n",
    "neuron.update_predecessor(reset_message)\n",
    "\n",
    "# Display the updated configuration of the neuron\n",
    "neuron.config"
   ]
  },
  {
   "cell_type": "code",
   "execution_count": 13,
   "id": "39ed806c",
   "metadata": {},
   "outputs": [
    {
     "data": {
      "text/plain": [
       "{'id': 'neuron1',\n",
       " 'args': {'prompt': 'Test prompt'},\n",
       " 'run_kargs': {'temperature': 0.7, 'top_p': 0.9},\n",
       " 'predecessors': {'predecessor1': None, 'predecessor2': None},\n",
       " 'triggers': ['predecessor1,predecessor2'],\n",
       " 'is_terminal': False}"
      ]
     },
     "execution_count": 13,
     "metadata": {},
     "output_type": "execute_result"
    }
   ],
   "source": [
    "# Update a predecessor with a ResetMessage\n",
    "reset_message = ResetMessage(id=\"predecessor2\")\n",
    "neuron.update_predecessor(reset_message)\n",
    "\n",
    "# Display the updated configuration of the neuron\n",
    "neuron.config"
   ]
  },
  {
   "cell_type": "code",
   "execution_count": 14,
   "id": "a3295e45",
   "metadata": {},
   "outputs": [
    {
     "data": {
      "text/plain": [
       "{'id': 'neuron1',\n",
       " 'args': {'prompt': 'Test prompt'},\n",
       " 'run_kargs': {'temperature': 0.7, 'top_p': 0.9},\n",
       " 'predecessors': {'predecessor1': None,\n",
       "  'predecessor2': None,\n",
       "  'predecessor3': None},\n",
       " 'triggers': ['predecessor1,predecessor2', 'predecessor3'],\n",
       " 'is_terminal': False}"
      ]
     },
     "execution_count": 14,
     "metadata": {},
     "output_type": "execute_result"
    }
   ],
   "source": [
    "# Check if the neuron is ready to fire after resetting another predecessor\n",
    "neuron.ready_to_fire()# Add a new predecessor and trigger\n",
    "neuron.add_predecessor(\"predecessor3\")\n",
    "neuron.add_trigger(\"predecessor3\")\n",
    "\n",
    "# Update the new predecessor with a message\n",
    "message3 = Message(id=\"predecessor3\", args={\"prompt\": \"Message 3\"})\n",
    "neuron.update_predecessor(message3)\n",
    "\n",
    "# Display the updated configuration of the neuron\n",
    "neuron.config"
   ]
  },
  {
   "cell_type": "code",
   "execution_count": 15,
   "id": "fbd186a7",
   "metadata": {},
   "outputs": [
    {
     "data": {
      "text/plain": [
       "'predecessor3'"
      ]
     },
     "execution_count": 15,
     "metadata": {},
     "output_type": "execute_result"
    }
   ],
   "source": [
    "# Check if the neuron is ready to fire with the new predecessor\n",
    "neuron.ready_to_fire()"
   ]
  },
  {
   "cell_type": "code",
   "execution_count": 16,
   "id": "21a52b40",
   "metadata": {},
   "outputs": [],
   "source": [
    "# Fire the neuron with the new trigger string\n",
    "result = neuron.fire(\"predecessor3\")\n",
    "\n",
    "# Display the result of firing the neuron\n",
    "result"
   ]
  },
  {
   "cell_type": "code",
   "execution_count": 17,
   "id": "14630dd2",
   "metadata": {},
   "outputs": [
    {
     "data": {
      "text/plain": [
       "{'id': 'neuron1',\n",
       " 'args': {'prompt': 'Test prompt'},\n",
       " 'run_kargs': {'temperature': 0.7, 'top_p': 0.9},\n",
       " 'predecessors': {'predecessor1': None, 'predecessor2': None},\n",
       " 'triggers': ['predecessor1,predecessor2'],\n",
       " 'is_terminal': False}"
      ]
     },
     "execution_count": 17,
     "metadata": {},
     "output_type": "execute_result"
    }
   ],
   "source": [
    "# Remove a predecessor\n",
    "neuron.remove_predecessor(\"predecessor3\")\n",
    "\n",
    "# Display the updated configuration of the neuron\n",
    "neuron.config"
   ]
  },
  {
   "cell_type": "code",
   "execution_count": 18,
   "id": "6f472b03",
   "metadata": {},
   "outputs": [
    {
     "data": {
      "text/plain": [
       "False"
      ]
     },
     "execution_count": 18,
     "metadata": {},
     "output_type": "execute_result"
    }
   ],
   "source": [
    "# Check if the neuron is ready to fire after removing a predecessor\n",
    "neuron.ready_to_fire()"
   ]
  },
  {
   "cell_type": "code",
   "execution_count": 20,
   "id": "86e5b9c9",
   "metadata": {},
   "outputs": [
    {
     "data": {
      "text/plain": [
       "{'id': 'neuron1',\n",
       " 'args': {'prompt': 'Test prompt'},\n",
       " 'run_kargs': {'temperature': 0.7, 'top_p': 0.9},\n",
       " 'predecessors': {'predecessor1': None, 'predecessor2': None},\n",
       " 'triggers': ['predecessor1,predecessor2'],\n",
       " 'is_terminal': False}"
      ]
     },
     "execution_count": 20,
     "metadata": {},
     "output_type": "execute_result"
    }
   ],
   "source": [
    "# Save the neuron configuration to a YAML file\n",
    "neuron.save_config(\"neuron_config.yaml\")\n",
    "\n",
    "# Load the neuron configuration from the YAML file\n",
    "loaded_neuron = Neuron.load_config(\"neuron_config.yaml\")\n",
    "\n",
    "# Display the loaded neuron configuration\n",
    "loaded_neuron.config"
   ]
  },
  {
   "cell_type": "code",
   "execution_count": null,
   "id": "e3cfcfe3-5bd0-4a75-9662-7b9474dcac68",
   "metadata": {},
   "outputs": [],
   "source": []
  }
 ],
 "metadata": {
  "kernelspec": {
   "display_name": "Python 3 (ipykernel)",
   "language": "python",
   "name": "python3"
  },
  "language_info": {
   "codemirror_mode": {
    "name": "ipython",
    "version": 3
   },
   "file_extension": ".py",
   "mimetype": "text/x-python",
   "name": "python",
   "nbconvert_exporter": "python",
   "pygments_lexer": "ipython3",
   "version": "3.11.5"
  }
 },
 "nbformat": 4,
 "nbformat_minor": 5
}
