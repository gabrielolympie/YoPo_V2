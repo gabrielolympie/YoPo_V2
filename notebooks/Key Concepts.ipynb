{
 "cells": [
  {
   "cell_type": "code",
   "execution_count": 1,
   "id": "b6a12c62-95c6-4ed7-8daa-90e4a4e46b90",
   "metadata": {},
   "outputs": [],
   "source": [
    "%load_ext autoreload\n",
    "%autoreload 2\n",
    "\n",
    "import sys\n",
    "sys.path.append('..')"
   ]
  },
  {
   "cell_type": "markdown",
   "id": "f16c531a",
   "metadata": {},
   "source": [
    "## The Trigger class\n",
    "\n",
    "A trigger is a mechanism that determines when a neuron should be fired or activated. It is a conditional check that evaluates certain criteria, such as the state of the neuron's buffer messages or the time elapsed since the last firing. If the condition is met, the trigger returns a list of predecessors that are ready to be fired, otherwise it returns None. The purpose of a trigger is to control the flow of information and activation of neurons in a neural network or other complex system. In the provided examples, we see two types of triggers:"
   ]
  },
  {
   "cell_type": "code",
   "execution_count": 2,
   "id": "377b609d-29b8-4950-91b7-542ce9a1fc5a",
   "metadata": {},
   "outputs": [],
   "source": [
    "from core.trigger import Trigger"
   ]
  },
  {
   "cell_type": "markdown",
   "id": "f85108ae",
   "metadata": {},
   "source": [
    "#### Example 1 : A trigger that checks the neuron cache, and fire when all elements of the cache are not empty"
   ]
  },
  {
   "cell_type": "code",
   "execution_count": 3,
   "id": "b0c65d3e",
   "metadata": {},
   "outputs": [],
   "source": [
    "class AllPredecessorTrigger(Trigger):\n",
    "    def condition(self, neuron):\n",
    "        cond=True\n",
    "        predecessors = []\n",
    "        for predecessor, message in neuron.buffer.messages.items():\n",
    "            predecessors.append(predecessor)\n",
    "            if message.type==\"empty\":\n",
    "                cond=False\n",
    "        if cond:\n",
    "            return predecessors ## Here we return a list of predecessors as the condition is met\n",
    "        return None ## Here we return None as at least one buffer message is empty"
   ]
  },
  {
   "cell_type": "markdown",
   "id": "3b737adf-44d2-419b-81bb-0440567476a8",
   "metadata": {},
   "source": [
    "#### Example 2 : A trigger that check the clock, and fire if the time since last fire is too big, return all context that are already ready"
   ]
  },
  {
   "cell_type": "code",
   "execution_count": 4,
   "id": "db4cfb8e-2ec3-49cb-a846-adce1cf25e43",
   "metadata": {},
   "outputs": [],
   "source": [
    "import time\n",
    "\n",
    "class CronWithReadyTrigger(Trigger):\n",
    "    def __init__(self, patience):\n",
    "        self.patience=patience\n",
    "        \n",
    "    def condition(self, neuron):\n",
    "        if time.time() - neuron.clock.last_fired < self.patience:\n",
    "            return None ## Returning none as not enough time as elapsed since last fire\n",
    "        \n",
    "        cond=True\n",
    "        predecessors = []\n",
    "        for predecessor, message in neuron.buffer.messages.items():\n",
    "            if message.type!=\"empty\":\n",
    "                predecessors.append(predecessor)\n",
    "        return predecessors ## Too much time has elapsed, so we collect finished predecessors and fire them"
   ]
  },
  {
   "cell_type": "markdown",
   "id": "b037b015",
   "metadata": {},
   "source": [
    "# The Step Class\n",
    "\n",
    "A Step represents a single unit of processing in a conversation flow. It is responsible for generating a reply based on the conversation context and inputs. A Step is the basic building block of a conversation flow, and it can be used to perform various tasks such as text processing, intent identification, and response generation.\n",
    "\n",
    "### Creating a Step\n",
    "To create a Step, you need to follow these steps:\n",
    "\n",
    "1. **Inherit from the `Step` class**: Create a new class that inherits from the `Step` class. This will allow you to override the `forward` method and implement your custom logic.\n",
    "2. **Implement the `forward` method**: The `forward` method is where you will implement the logic for processing the conversation context and inputs to generate a reply. This method takes in three parameters:\n",
    "\t* `conversation`: A dictionary containing the conversation data.\n",
    "\t* `context`: A dictionary containing the conversation context.\n",
    "\t* `working_memory`: An instance of the `WorkingMemory` class, which is used to store and retrieve information during the conversation.\n",
    "3. **Define the `__init__` method**: The `__init__` method is used to initialize the Step instance. You can use this method to set up any necessary attributes or parameters for the Step.\n",
    "4. **Call the `super().__init__` method**: In the `__init__` method, you should call the `super().__init__` method to ensure that the parent class is properly initialized.\n"
   ]
  },
  {
   "cell_type": "markdown",
   "id": "b849ccaf-0060-4ff0-a328-ca992359232e",
   "metadata": {},
   "source": [
    "#### Example: Call a llm with the neuron context in the past conversation, and a custom prompt as last user message"
   ]
  },
  {
   "cell_type": "code",
   "execution_count": 5,
   "id": "74e121e5",
   "metadata": {},
   "outputs": [],
   "source": [
    "from typing import Dict, Any\n",
    "from core.message import Message, Reply\n",
    "from core.st_memory import WorkingMemory\n",
    "from core.step import Step"
   ]
  },
  {
   "cell_type": "code",
   "execution_count": 6,
   "id": "146821ca",
   "metadata": {},
   "outputs": [
    {
     "data": {
      "text/plain": [
       "Reply(str_input='What is love', str_output='ran', context=[], metadata={})"
      ]
     },
     "execution_count": 6,
     "metadata": {},
     "output_type": "execute_result"
    }
   ],
   "source": [
    "# Creating a Step instance that run an llm on the conversation + context\n",
    "def call_llm(messages, call_args):\n",
    "    return \"ran\"\n",
    "\n",
    "class LLMStep(Step):\n",
    "    def __init__(self, str_input: str= None, step_args: Dict[str, Any] = None):\n",
    "        super().__init__(str_input, step_args)\n",
    "        self.str_input=str_input\n",
    "        self.step_args=step_args\n",
    "        \n",
    "    def forward(self, conversation: Dict[str, Any]=[], context: Dict[str, Message]={}, working_memory: WorkingMemory = None) -> Reply:\n",
    "        messages=conversation.copy()\n",
    "\n",
    "        step_context=[]\n",
    "        for src_id, msg in context.items():\n",
    "            step_context.append(src_id)\n",
    "            messages.append({'role':'user','content':msg.reply.str_input})\n",
    "            messages.append({'role':'assistant','content':msg.reply.str_output})\n",
    "        \n",
    "        messages.append({'role':'user','content':self.str_input})\n",
    "        \n",
    "        reply = Reply(\n",
    "            str_input=self.str_input,\n",
    "            str_output=call_llm(messages, call_args=self.step_args),\n",
    "            context=step_context\n",
    "        )\n",
    "        return reply\n",
    "\n",
    "step = LLMStep(\"What is love\")\n",
    "\n",
    "step.forward()"
   ]
  },
  {
   "cell_type": "markdown",
   "id": "e5c0c65f-1016-4199-b17b-4a0709af80a7",
   "metadata": {},
   "source": [
    "## The Message Class\n",
    "\n",
    "### Definition of a Message\n",
    "A Message represents a core data structure in the system, used to exchange information between neurons. The Message model includes attributes such as type, sender and receiver IDs, reply, priority, creation time, and metadata.\n",
    "\n",
    "### Components of a Message\n",
    "A Message consists of the following components:\n",
    "\n",
    "1. **MessageType**: An Enum representing the types of messages that can be sent, including `EMPTY`, `PERSISTENT`, and `PAYLOAD`.\n",
    "2. **Reply**: A model representing the response to a message, containing inputs, outputs, and metadata.\n",
    "3. **Message Type**: The type of the message, which can be one of the MessageType Enum values.\n",
    "4. **Sender and Receiver IDs**: The IDs of the sender and receiver of the message.\n",
    "5. **Priority**: The priority of the message, which can range from 0 to 10.\n",
    "6. **Creation Time**: The time the message was created, which is automatically set to the current time.\n",
    "7. **Metadata**: Additional metadata associated with the message."
   ]
  },
  {
   "cell_type": "markdown",
   "id": "a964e1a4-2d55-496e-b6a0-e5a6812508a3",
   "metadata": {},
   "source": [
    "Message can be of three types:\n",
    "- empty : the message will replace any existing message in the target buffer\n",
    "- payload : the message contains a reply, and will take its place in the target buffer, but it will be cleared from it when the target will fire\n",
    "- persistant : same as the payload, but stays in the target buffer on fire, it can be replaced by an empty message or a payload message though, or cleaned if the buffer have an expiration."
   ]
  },
  {
   "cell_type": "code",
   "execution_count": 7,
   "id": "484c2935-b133-4e6e-bca4-f2cbd2033949",
   "metadata": {},
   "outputs": [],
   "source": [
    "from core.message import Message, Reply\n",
    "\n",
    "empty_message=Message(type=\"empty\", sender_id=\"node1\", receiver_id=\"node2\")\n",
    "payload_message=Message(type=\"payload\", sender_id=\"node1\", receiver_id=\"node2\", reply=Reply(str_input='Hello there', str_output='Ran'))\n",
    "payload_message=Message(type=\"persistent\", sender_id=\"node1\", receiver_id=\"node2\", reply=Reply(str_input='Hello there', str_output='Ran'))"
   ]
  },
  {
   "cell_type": "markdown",
   "id": "f6090260-74ea-467f-b10b-b1e3864eeb2e",
   "metadata": {},
   "source": [
    "## The Activation Class\n",
    "\n",
    "An Activation represents a mechanism for routing replies to neuron successors in a neural network. The Activation class is an abstract base class that provides a blueprint for routing replies to neuron successors.\n",
    "\n",
    "### Creating an Activation Function\n",
    "To create an Activation Function, you need to follow these steps:\n",
    "\n",
    "1. **Inherit from the `Activation` class**: Create a new class that inherits from the `Activation` class. This will allow you to override the `route` method and implement your custom logic.\n",
    "2. **Implement the `route` method**: The `route` method is where you will implement the logic for routing a reply to the successors of a neuron. This method takes in three parameters:\n",
    "\t* `reply`: The reply to be routed.\n",
    "\t* `neuron`: The neuron that the reply is being routed from.\n",
    "\t* `working_memory`: An instance of the `WorkingMemory` class, which is used to store and retrieve information during the conversation.\n",
    "3. **Define the routing logic**: In the `route` method, you need to define the logic for routing the reply to the successors of the neuron. This can involve creating a list of messages to be sent to the successors."
   ]
  },
  {
   "cell_type": "markdown",
   "id": "49d8226b-56df-4251-9e16-03f9bb727603",
   "metadata": {},
   "source": [
    "#### Example 1 : Pass the message as a standard message to all successors"
   ]
  },
  {
   "cell_type": "code",
   "execution_count": 13,
   "id": "56ef26fe-1657-4844-a3d3-01d26d93c122",
   "metadata": {},
   "outputs": [],
   "source": [
    "from core.activation import Activation\n",
    "from core.neuron import Neuron\n",
    "import random\n",
    "\n",
    "class FullActivation(Activation):\n",
    "    def route(self, reply:Reply, neuron:Neuron, working_memory=None):\n",
    "        routed_messages=[]\n",
    "\n",
    "        for successor, successor_description in neuron.successors.items():\n",
    "            routed_messages.append(Message(type=\"payload\", sender_id=neuron.id, receiver_id=successor, reply=reply))\n",
    "            \n",
    "        return routed_messages"
   ]
  },
  {
   "cell_type": "markdown",
   "id": "13eb181e-a0bf-4591-8a6f-1c2e80cbb361",
   "metadata": {},
   "source": [
    "#### Example 2 : 25% chance on each kind of message\n",
    "- 25% chances to get a normal message\n",
    "- 25% chances to get a persistant message\n",
    "- 25% chances to get a reset\n",
    "- 25% chances to receive nothing"
   ]
  },
  {
   "cell_type": "code",
   "execution_count": 14,
   "id": "9a97aafc-ef02-4643-ac15-8fef5aac4277",
   "metadata": {},
   "outputs": [],
   "source": [
    "from core.activation import Activation\n",
    "from core.neuron import Neuron\n",
    "import random\n",
    "\n",
    "class FiftyFiftyActivation(Activation):\n",
    "    def route(self, reply:Reply, neuron:Neuron, working_memory=None):\n",
    "        routed_messages=[]\n",
    "\n",
    "        for successor, successor_description in neuron.successors.items():\n",
    "            r=random.uniform(0,1)\n",
    "            if r < 0.25:\n",
    "                routed_messages.append(Message(type=\"payload\", sender_id=neuron.id, receiver_id=successor, reply=reply))\n",
    "            elif r < 0.5:\n",
    "                routed_messages.append(Message(type=\"persistent\", sender_id=neuron.id, receiver_id=successor, reply=reply))\n",
    "            elif r < 0.75:\n",
    "                routed_messages.append(Message(type=\"empty\", sender_id=neuron.id, receiver_id=successor)) ## No need for reply here\n",
    "            else:\n",
    "                pass\n",
    "        return routed_messages"
   ]
  },
  {
   "cell_type": "markdown",
   "id": "038eb14c-f758-47e3-90e7-74e7062ee4ae",
   "metadata": {},
   "source": [
    "Obviously, you can design smarter conditions on the successor, and even try an llm condition"
   ]
  },
  {
   "cell_type": "code",
   "execution_count": 15,
   "id": "64b58161-9527-4819-b172-0db434518502",
   "metadata": {},
   "outputs": [],
   "source": [
    "from core.activation import Activation\n",
    "from core.neuron import Neuron\n",
    "import random\n",
    "\n",
    "def llm_classifier(description):\n",
    "    if len(description) < 10:\n",
    "        return True\n",
    "    else:\n",
    "        return False\n",
    "    \n",
    "\n",
    "class DummyLLMActivation(Activation):\n",
    "    def route(self, reply:Reply, neuron:Neuron, working_memory=None):\n",
    "        routed_messages=[]\n",
    "\n",
    "        for successor, successor_description in neuron.successors.items():\n",
    "            cond=llm_classifier(successor_description)\n",
    "            if cond:\n",
    "                routed_messages.append(Message(type=\"payload\", sender_id=neuron.id, receiver_id=successor, reply=reply))\n",
    "        return routed_messages"
   ]
  },
  {
   "cell_type": "markdown",
   "id": "a375612d-f201-42c8-a87e-e982a85358c1",
   "metadata": {},
   "source": [
    "## The neuron Class\n",
    "\n",
    "### Definition of a Neuron\n",
    "A Neuron represents a node in a network, responsible for processing and transmitting information. The Neuron class has methods to fire the neuron, handle retries, and check if the neuron should fire.\n",
    "\n",
    "### Components of a Neuron\n",
    "A Neuron consists of the following components:\n",
    "\n",
    "1. **ID**: A unique identifier for the neuron.\n",
    "2. **Predecessors**: A list of predecessor neuron IDs.\n",
    "3. **Successors**: A dictionary of successor neuron IDs and their descriptions.\n",
    "4. **Triggers**: A list of triggers that determine when the neuron should fire.\n",
    "5. **Step Function**: A function that processes the input messages and returns a reply.\n",
    "6. **Activation Function**: A function that maps the reply to the successor neurons.\n",
    "7. **Buffer**: A buffer that stores messages from predecessor neurons.\n",
    "8. **Clock**: A clock that tracks the time and updates the neuron's state.\n",
    "\n",
    "```python\n",
    "neuron = Neuron(\n",
    "    id=\"neuron_1\", ## Unique id of the neuron in the brain\n",
    "    description=\"the description of the node\",\n",
    "    predecessors={\"predecessor_1\":\"description_1\", \"predecessor_2\":\"description_2\"}, ## List of predecessors of the neuron\n",
    "    successors={\"successor_1\": \"description_1\", \"successor_2\": \"description_2\"}, ## List of successors of the neuron\n",
    "    triggers=[trigger_1, trigger_2], ## list of triggers. Be careful to the order, if two trigger are activated at the same time, only the first will fire the neuron\n",
    "    step=step_function, ## The step that is applied after the trigger\n",
    "    activation=activation_function, ## The activation class\n",
    "    is_entrypoint=True, ## If the neuron is an entrypoint. If this is the case, it will fire as soon as the brain starts, without any other context than the conversation. A brain must have at least one entypoint neuron\n",
    "    is_terminal=False, ## If the neuron is terminal. If this is the case, the brain will stop after the neuron fire. A brain can have no terminal node and run until timeout.\n",
    ")\n",
    "```"
   ]
  },
  {
   "cell_type": "markdown",
   "id": "a5865c04-ca4c-426a-a65b-40406dc47520",
   "metadata": {},
   "source": [
    "#### Example 1:"
   ]
  },
  {
   "cell_type": "code",
   "execution_count": 28,
   "id": "57d1ebf2-0058-40b4-8759-39e4e28e4267",
   "metadata": {},
   "outputs": [
    {
     "name": "stdout",
     "output_type": "stream",
     "text": [
      "Buffer Messages:\n",
      "node1\n",
      "node2\n",
      "\n",
      "Last Fired: None\n",
      "\n",
      "Should Fire: None\n",
      "\n",
      "Waiting for 2 seconds...\n",
      "\n",
      "Context to Trigger: ['node1']\n",
      "\n",
      "Reply: str_input='What is love?' str_output='ran' context=['node1'] metadata={}\n",
      "\n",
      "Messages:\n",
      "[Message(type=<MessageType.PERSISTENT: 'persistent'>, sender_id='node4', receiver_id='node3', reply=Reply(str_input='What is love?', str_output='ran', context=['node1'], metadata={}), priority=0, created_at=1736713498.3378732, metadata={}), Message(type=<MessageType.PERSISTENT: 'persistent'>, sender_id='node4', receiver_id='node1', reply=Reply(str_input='What is love?', str_output='ran', context=['node1'], metadata={}), priority=0, created_at=1736713498.337876, metadata={})]\n"
     ]
    }
   ],
   "source": [
    "import time\n",
    "\n",
    "# Define the trigger, step, activation, and neuron\n",
    "trigger = CronWithReadyTrigger(patience=1)\n",
    "step = LLMStep(\"What is love?\")\n",
    "activation = FiftyFiftyActivation()\n",
    "description = \"Answer to the timely question: what is love\"\n",
    "\n",
    "predecessors = {\n",
    "    'node1': 'a predecessor and successor node',\n",
    "    'node2': 'a predecessor node',\n",
    "}\n",
    "\n",
    "successors = {\n",
    "    'node3': 'a successor node',\n",
    "    'node1': 'a predecessor and successor node',\n",
    "}\n",
    "\n",
    "neuron = Neuron(\n",
    "    id=\"node4\",\n",
    "    description=description,\n",
    "    predecessors=predecessors,\n",
    "    successors=successors,\n",
    "    triggers=[trigger],  # we use only one trigger here\n",
    "    step=step,\n",
    "    activation=activation,\n",
    "    is_entrypoint=False,\n",
    "    is_terminal=True\n",
    ")\n",
    "\n",
    "# Update the content of node1\n",
    "node1_reply = Reply(str_input='Hello there', str_output='Ran')\n",
    "node1_message = Message(type=\"payload\", sender_id=\"node1\", receiver_id='node4', reply=node1_reply)\n",
    "neuron.receive(node1_message)\n",
    "\n",
    "# Print the buffer messages\n",
    "print(\"Buffer Messages:\")\n",
    "for message in neuron.buffer.messages:\n",
    "    print(message)\n",
    "\n",
    "# Print the last fired time\n",
    "last_fired = neuron.clock.last_fired\n",
    "print(f\"\\nLast Fired: {last_fired}\")\n",
    "\n",
    "# Check if the neuron should fire\n",
    "should_fire = neuron.should_fire()\n",
    "print(f\"\\nShould Fire: {should_fire}\")\n",
    "\n",
    "# Wait for 2 seconds\n",
    "print(\"\\nWaiting for 2 seconds...\")\n",
    "time.sleep(2)\n",
    "\n",
    "# Check if the neuron should fire again\n",
    "context = neuron.should_fire()\n",
    "print(f\"\\nContext to Trigger: {context}\")\n",
    "\n",
    "# Fire the neuron\n",
    "conversation = []\n",
    "neuron, reply, messages = neuron.fire(conversation, context)\n",
    "\n",
    "# Print the reply and messages\n",
    "print(f\"\\nReply: {reply}\")\n",
    "print(\"\\nMessages:\")\n",
    "print(messages)"
   ]
  },
  {
   "cell_type": "markdown",
   "id": "dafd7f4b-0806-45aa-b5e2-9f1c1e3b71fa",
   "metadata": {},
   "source": [
    "## The Brain class enables you to orchestrate several neurons.\n",
    "\n",
    "### Definition of a Brain\n",
    "A Brain represents a neural network that can execute conversations. The Brain class has methods to run the brain execution synchronously and yield the list of messages each time a process is finished.\n",
    "\n",
    "### Components of a Brain\n",
    "A Brain consists of the following components:\n",
    "\n",
    "1. **Name**: A unique name for the brain.\n",
    "2. **Neurons**: A list of neurons in the brain, where each neuron is an instance of the `Neuron` class.\n",
    "3. **Working Memory**: A working memory that stores messages and has a maximum size and overflow strategy.\n",
    "4. **Workers**: The number of worker threads used to execute the brain.\n",
    "5. **Timeout**: The timeout for the brain execution.\n",
    "6. **Iteration Delay**: The delay between iterations.\n",
    "7. **Max Concurrent Fires**: The maximum number of concurrent fires.\n",
    "\n",
    "### Creating a Brain\n",
    "To create a Brain, you can use the `Brain` class and provide the required attributes. For example:\n",
    "```python\n",
    "brain = Brain(\n",
    "    name=\"my_brain\",\n",
    "    neurons=[neuron_1, neuron_2, neuron_3],\n",
    "    max_working_memory_size=10000,\n",
    "    working_memory_overflow_strategy=\"fifo\",\n",
    "    workers=8,\n",
    "    timeout=120,\n",
    "    iteration_delay=0.5,\n",
    "    max_concurrent_fires=100,\n",
    ")\n",
    "```\n",
    "\n",
    "### Running a Brain\n",
    "The `run` method is used to run the brain execution synchronously. It takes a conversation as input and yields the list of messages each time a process is finished. The conversation is a list of dictionaries, where each dictionary represents a message with a role and content.\n"
   ]
  }
 ],
 "metadata": {
  "kernelspec": {
   "display_name": "Python 3 (ipykernel)",
   "language": "python",
   "name": "python3"
  },
  "language_info": {
   "codemirror_mode": {
    "name": "ipython",
    "version": 3
   },
   "file_extension": ".py",
   "mimetype": "text/x-python",
   "name": "python",
   "nbconvert_exporter": "python",
   "pygments_lexer": "ipython3",
   "version": "3.11.5"
  }
 },
 "nbformat": 4,
 "nbformat_minor": 5
}
