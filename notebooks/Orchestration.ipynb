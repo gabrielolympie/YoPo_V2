{
 "cells": [
  {
   "cell_type": "code",
   "execution_count": 23,
   "id": "26ec31e1-9a91-4b4d-9960-9986609bd2c9",
   "metadata": {},
   "outputs": [],
   "source": [
    "%load_ext autoreload\n",
    "%autoreload 2\n",
    "\n",
    "import sys\n",
    "sys.path.append('..')"
   ]
  },
  {
   "cell_type": "code",
   "execution_count": 35,
   "id": "d8b211bd-eada-43af-8769-55580bc34653",
   "metadata": {},
   "outputs": [],
   "source": [
    "from concurrent.futures import ThreadPoolExecutor\n",
    "import time\n",
    "import random\n",
    "import asyncio\n",
    "\n",
    "\n",
    "def wait(i):\n",
    "    duration=random.uniform(0,5)\n",
    "    time.sleep(duration)\n",
    "    return f\"Slept for {duration} seconds\"\n"
   ]
  },
  {
   "cell_type": "code",
   "execution_count": 36,
   "id": "2282b2d4-285f-4e81-b35c-9d0606b3ea22",
   "metadata": {},
   "outputs": [
    {
     "data": {
      "text/plain": [
       "[]"
      ]
     },
     "execution_count": 36,
     "metadata": {},
     "output_type": "execute_result"
    }
   ],
   "source": [
    "\"\".split()"
   ]
  },
  {
   "cell_type": "code",
   "execution_count": 37,
   "id": "dbf1d099-5385-4c1c-b2da-3a7d43517cc1",
   "metadata": {},
   "outputs": [],
   "source": [
    "from core.neuron import Neuron, Message, ResetMessage\n",
    "import yaml\n",
    "\n",
    "neuron = Neuron(id='test')"
   ]
  },
  {
   "cell_type": "code",
   "execution_count": 49,
   "id": "bf104720-d9d2-457b-a16c-515e6169a567",
   "metadata": {
    "scrolled": true
   },
   "outputs": [
    {
     "name": "stdout",
     "output_type": "stream",
     "text": [
      "id='c872faa7-5a16-4bc4-8db3-a7ac7a622e1d' emitter_id='test' args={'prompt': 'Hello world'} reply={'content': 'ran'} persistant=False\n",
      "id='ae95bce5-c4f6-4793-8626-a3617d574eee' emitter_id='test' args={'prompt': 'Hello world'} reply={'content': 'ran'} persistant=False\n",
      "id='7fe89414-5bda-488d-b421-40237ddd2162' emitter_id='test' args={'prompt': 'Hello world'} reply={'content': 'ran'} persistant=False\n",
      "id='a2c81e52-59c0-49fa-bc7d-7be0bc7db391' emitter_id='test' args={'prompt': 'Hello world'} reply={'content': 'ran'} persistant=False\n",
      "id='90460fcf-17c5-4387-b18d-5b98c426b6ac' emitter_id='test' args={'prompt': 'Hello world'} reply={'content': 'ran'} persistant=False\n",
      "id='ebc98d08-c78f-458d-9dfd-01b6adf89c47' emitter_id='test' args={'prompt': 'Hello world'} reply={'content': 'ran'} persistant=False\n",
      "id='0eed2ceb-01b7-4d11-b664-9349e6353c94' emitter_id='test' args={'prompt': 'Hello world'} reply={'content': 'ran'} persistant=False\n",
      "id='6a399c69-cb18-4562-a6db-612c3f6cdb95' emitter_id='test' args={'prompt': 'Hello world'} reply={'content': 'ran'} persistant=False\n",
      "id='032d8d97-c641-4926-b2c1-d107f8e82881' emitter_id='test' args={'prompt': 'Hello world'} reply={'content': 'ran'} persistant=False\n",
      "id='a40d0544-a3fd-47ec-88ee-aa56ba501821' emitter_id='test' args={'prompt': 'Hello world'} reply={'content': 'ran'} persistant=False\n"
     ]
    }
   ],
   "source": [
    "executor = ThreadPoolExecutor(max_workers=32)\n",
    "\n",
    "messages=[]\n",
    "trigger_str=\"\"\n",
    "\n",
    "\n",
    "futures = []\n",
    "\n",
    "for i in range(10):\n",
    "    futures.append(executor.submit(neuron.fire, messages, trigger_str))\n",
    "\n",
    "while futures:\n",
    "    for future in futures[:]:\n",
    "        if future.done():\n",
    "            result = future.result()\n",
    "            print(result)\n",
    "            futures.remove(future)\n",
    "        else:\n",
    "            time.sleep(0.1)"
   ]
  },
  {
   "cell_type": "code",
   "execution_count": 8,
   "id": "ed693617-4abd-4df5-b1e3-0eca5cfbf0e5",
   "metadata": {
    "scrolled": true
   },
   "outputs": [
    {
     "name": "stdout",
     "output_type": "stream",
     "text": [
      "<Future at 0x7f4bd3c5cb10 state=finished raised TypeError>\n",
      "<Future at 0x7f4bd3c4d310 state=finished raised TypeError>\n",
      "<Future at 0x7f4be91b85d0 state=finished raised TypeError>\n",
      "<Future at 0x7f4bd3c5c4d0 state=finished raised TypeError>\n",
      "<Future at 0x7f4bd3c5cd90 state=finished raised TypeError>\n",
      "<Future at 0x7f4bd3c5cc50 state=finished raised TypeError>\n",
      "<Future at 0x7f4bd3c93e90 state=finished raised TypeError>\n",
      "<Future at 0x7f4be920a3d0 state=finished raised TypeError>\n",
      "<Future at 0x7f4bd3c52c10 state=finished raised TypeError>\n",
      "<Future at 0x7f4bd3c5ce50 state=finished raised TypeError>\n",
      "<Future at 0x7f4be91b80d0 state=finished raised TypeError>\n",
      "<Future at 0x7f4bd3c29110 state=finished raised TypeError>\n",
      "<Future at 0x7f4bd3c5c190 state=finished raised TypeError>\n",
      "<Future at 0x7f4bd3c515d0 state=finished raised TypeError>\n",
      "<Future at 0x7f4bd3c53a10 state=finished raised TypeError>\n",
      "<Future at 0x7f4bd3c28f10 state=finished raised TypeError>\n",
      "<Future at 0x7f4bd3c29bd0 state=finished raised TypeError>\n",
      "<Future at 0x7f4bd3c521d0 state=finished raised TypeError>\n",
      "<Future at 0x7f4bd3c535d0 state=finished raised TypeError>\n",
      "<Future at 0x7f4bd3c51210 state=finished raised TypeError>\n",
      "<Future at 0x7f4bd3c51690 state=finished raised TypeError>\n",
      "<Future at 0x7f4bd3c52890 state=finished raised TypeError>\n",
      "<Future at 0x7f4bd3c51890 state=finished raised TypeError>\n",
      "<Future at 0x7f4bd3c53fd0 state=finished raised TypeError>\n",
      "<Future at 0x7f4bd3c53c90 state=finished raised TypeError>\n",
      "<Future at 0x7f4bd3c492d0 state=finished raised TypeError>\n",
      "<Future at 0x7f4bd3c49390 state=finished raised TypeError>\n",
      "<Future at 0x7f4bd3c4a610 state=finished raised TypeError>\n",
      "<Future at 0x7f4bd3c29350 state=finished raised TypeError>\n",
      "<Future at 0x7f4bd3c4a890 state=finished raised TypeError>\n",
      "<Future at 0x7f4bd3c4b910 state=finished raised TypeError>\n",
      "<Future at 0x7f4bd3c499d0 state=finished raised TypeError>\n",
      "<Future at 0x7f4bd3c4bad0 state=finished raised TypeError>\n",
      "<Future at 0x7f4bd3c48e50 state=finished raised TypeError>\n",
      "<Future at 0x7f4bd3c48a50 state=finished raised TypeError>\n",
      "<Future at 0x7f4bd3c49f90 state=finished raised TypeError>\n",
      "<Future at 0x7f4bd3c4a350 state=finished raised TypeError>\n",
      "<Future at 0x7f4bd3c49310 state=finished raised TypeError>\n",
      "<Future at 0x7f4bd3c48110 state=finished raised TypeError>\n",
      "<Future at 0x7f4bd3c4a310 state=finished raised TypeError>\n",
      "<Future at 0x7f4bd3c4a910 state=finished raised TypeError>\n",
      "<Future at 0x7f4bd3c4ad50 state=finished raised TypeError>\n",
      "<Future at 0x7f4bd3c4b010 state=finished raised TypeError>\n",
      "<Future at 0x7f4bd3c4bcd0 state=finished raised TypeError>\n",
      "<Future at 0x7f4bd3c48850 state=finished raised TypeError>\n",
      "<Future at 0x7f4be91d4890 state=finished raised TypeError>\n",
      "<Future at 0x7f4be920c210 state=finished raised TypeError>\n",
      "<Future at 0x7f4be920d310 state=finished raised TypeError>\n",
      "<Future at 0x7f4bd3c2d050 state=finished raised TypeError>\n",
      "<Future at 0x7f4bd3c2cdd0 state=finished raised TypeError>\n",
      "<Future at 0x7f4bd3c2ca50 state=finished raised TypeError>\n",
      "<Future at 0x7f4bd3c2d150 state=finished raised TypeError>\n",
      "<Future at 0x7f4bd3c2ce10 state=finished raised TypeError>\n",
      "<Future at 0x7f4bd3c2dd10 state=finished raised TypeError>\n",
      "<Future at 0x7f4bd3c2e610 state=finished raised TypeError>\n",
      "<Future at 0x7f4bd3c2d450 state=finished raised TypeError>\n",
      "<Future at 0x7f4bd3c2f210 state=finished raised TypeError>\n",
      "<Future at 0x7f4bd3c972d0 state=finished raised TypeError>\n",
      "<Future at 0x7f4bd3c957d0 state=finished raised TypeError>\n",
      "<Future at 0x7f4bd3c96f50 state=finished raised TypeError>\n",
      "<Future at 0x7f4bd3c94b50 state=finished raised TypeError>\n",
      "<Future at 0x7f4bd3c94110 state=finished raised TypeError>\n",
      "<Future at 0x7f4bd3c94590 state=finished raised TypeError>\n",
      "<Future at 0x7f4bd3c95b50 state=finished raised TypeError>\n",
      "<Future at 0x7f4bd3c95090 state=finished raised TypeError>\n",
      "<Future at 0x7f4bd3c95390 state=finished raised TypeError>\n",
      "<Future at 0x7f4bd3c95550 state=finished raised TypeError>\n",
      "<Future at 0x7f4bd3c95fd0 state=finished raised TypeError>\n",
      "<Future at 0x7f4bd3c96210 state=finished raised TypeError>\n",
      "<Future at 0x7f4bd3c964d0 state=finished raised TypeError>\n",
      "<Future at 0x7f4bd3c96790 state=finished raised TypeError>\n",
      "<Future at 0x7f4bd3c96bd0 state=finished raised TypeError>\n",
      "<Future at 0x7f4bd3c96e50 state=finished raised TypeError>\n",
      "<Future at 0x7f4bd3c974d0 state=finished raised TypeError>\n",
      "<Future at 0x7f4bd3c97950 state=finished raised TypeError>\n",
      "<Future at 0x7f4bd3c97c10 state=finished raised TypeError>\n",
      "<Future at 0x7f4bd3c97b50 state=finished raised TypeError>\n",
      "<Future at 0x7f4bd3c6d110 state=finished raised TypeError>\n",
      "<Future at 0x7f4bd3c6cc50 state=finished raised TypeError>\n",
      "<Future at 0x7f4bd3c6c5d0 state=finished raised TypeError>\n",
      "<Future at 0x7f4bd3c6ca50 state=finished raised TypeError>\n",
      "<Future at 0x7f4bd3c6ce10 state=finished raised TypeError>\n",
      "<Future at 0x7f4bd3c6d210 state=finished raised TypeError>\n",
      "<Future at 0x7f4bd3c6d6d0 state=finished raised TypeError>\n",
      "<Future at 0x7f4bd3c6d610 state=finished raised TypeError>\n",
      "<Future at 0x7f4bd3c6e110 state=finished raised TypeError>\n",
      "<Future at 0x7f4bd3c6e0d0 state=finished raised TypeError>\n",
      "<Future at 0x7f4bd3c6e750 state=finished raised TypeError>\n",
      "<Future at 0x7f4bd3c6ea10 state=finished raised TypeError>\n",
      "<Future at 0x7f4bd3c6f790 state=finished raised TypeError>\n",
      "<Future at 0x7f4bd3c6ef10 state=finished raised TypeError>\n",
      "<Future at 0x7f4bd3c6ee10 state=finished raised TypeError>\n",
      "<Future at 0x7f4bd3c6fbd0 state=finished raised TypeError>\n",
      "<Future at 0x7f4bd3c6fb10 state=finished raised TypeError>\n",
      "<Future at 0x7f4bd3c6f910 state=finished raised TypeError>\n",
      "<Future at 0x7f4bd3c6fd10 state=finished raised TypeError>\n",
      "<Future at 0x7f4bd3c6fed0 state=finished raised TypeError>\n",
      "<Future at 0x7f4bd3c6d590 state=finished raised TypeError>\n",
      "<Future at 0x7f4bd3c6f0d0 state=finished raised TypeError>\n",
      "<Future at 0x7f4bd3c6fb50 state=finished raised TypeError>\n"
     ]
    }
   ],
   "source": []
  },
  {
   "cell_type": "code",
   "execution_count": null,
   "id": "0ddff60e-9b40-4ed5-b251-4f2ec2059513",
   "metadata": {},
   "outputs": [],
   "source": []
  }
 ],
 "metadata": {
  "kernelspec": {
   "display_name": "Python 3 (ipykernel)",
   "language": "python",
   "name": "python3"
  },
  "language_info": {
   "codemirror_mode": {
    "name": "ipython",
    "version": 3
   },
   "file_extension": ".py",
   "mimetype": "text/x-python",
   "name": "python",
   "nbconvert_exporter": "python",
   "pygments_lexer": "ipython3",
   "version": "3.11.5"
  }
 },
 "nbformat": 4,
 "nbformat_minor": 5
}
